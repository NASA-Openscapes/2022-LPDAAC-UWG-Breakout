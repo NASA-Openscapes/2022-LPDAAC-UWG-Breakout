{
 "cells": [
  {
   "cell_type": "code",
   "execution_count": 1,
   "id": "a4b53a30-ac30-4926-8c31-ec9e8ede2bee",
   "metadata": {},
   "outputs": [],
   "source": [
    "from pystac_client import Client\n",
    "import geopandas\n",
    "import json"
   ]
  },
  {
   "cell_type": "code",
   "execution_count": 2,
   "id": "8e4204fc-9e41-4ccb-9822-63eabb45e391",
   "metadata": {},
   "outputs": [],
   "source": [
    "stac_endpts = {'lpdaac':'https://cmr.earthdata.nasa.gov/stac/LPCLOUD',\n",
    "               'ornldaac':'https://cmr.earthdata.nasa.gov/stac/ORNL_CLOUD',\n",
    "               'usgs_ls':'https://landsatlook.usgs.gov/stac-server',\n",
    "               'earthsearch_aws':'https://earth-search.aws.element84.com/v0'\n",
    "              }"
   ]
  },
  {
   "cell_type": "code",
   "execution_count": 3,
   "id": "cc475a2a-5909-4d55-a516-354d259aa551",
   "metadata": {},
   "outputs": [],
   "source": [
    "infile = geopandas.read_file('../data/ne_w_agfields.geojson')"
   ]
  },
  {
   "cell_type": "code",
   "execution_count": 4,
   "id": "83d2db31-4db7-4902-be21-0912ad7654cc",
   "metadata": {},
   "outputs": [
    {
     "data": {
      "text/plain": [
       "{'type': 'Polygon',\n",
       " 'coordinates': [[[-101.67271614074707, 41.04754380304359],\n",
       "   [-101.65344715118408, 41.04754380304359],\n",
       "   [-101.65344715118408, 41.06213891056728],\n",
       "   [-101.67271614074707, 41.06213891056728],\n",
       "   [-101.67271614074707, 41.04754380304359]]]}"
      ]
     },
     "execution_count": 4,
     "metadata": {},
     "output_type": "execute_result"
    }
   ],
   "source": [
    "roi = json.loads(infile.to_json())['features'][0]['geometry']\n",
    "roi"
   ]
  },
  {
   "cell_type": "code",
   "execution_count": 5,
   "id": "9b01cf53-7531-4311-b1f5-c0a375b0dea5",
   "metadata": {},
   "outputs": [],
   "source": [
    "date_range = \"2021/2022\""
   ]
  },
  {
   "cell_type": "markdown",
   "id": "c22f3907-0b13-4d50-90d6-ff7a9726d138",
   "metadata": {},
   "source": [
    "---"
   ]
  },
  {
   "cell_type": "code",
   "execution_count": 6,
   "id": "ced3c862-f734-4658-ad9d-d8ae7ce14fd9",
   "metadata": {},
   "outputs": [],
   "source": [
    "lp_cat = Client.open(stac_endpts['lpdaac'])"
   ]
  },
  {
   "cell_type": "code",
   "execution_count": 7,
   "id": "f76fc6df-db81-46f8-a2e3-44dda9f1587d",
   "metadata": {},
   "outputs": [
    {
     "data": {
      "text/plain": [
       "[<CollectionClient id=ASTGTM.v003>,\n",
       " <CollectionClient id=HLSL30.v2.0>,\n",
       " <CollectionClient id=HLSS30.v2.0>]"
      ]
     },
     "execution_count": 7,
     "metadata": {},
     "output_type": "execute_result"
    }
   ],
   "source": [
    "list(lp_cat.get_collections())"
   ]
  },
  {
   "cell_type": "code",
   "execution_count": 8,
   "id": "7ef2b9e7-3413-4680-ba6e-2bcd456a11a2",
   "metadata": {},
   "outputs": [
    {
     "name": "stdout",
     "output_type": "stream",
     "text": [
      "ASTGTM.v003: ASTER Global Digital Elevation Model V003\n",
      "HLSL30.v2.0: HLS Landsat Operational Land Imager Surface Reflectance and TOA Brightness Daily Global 30m v2.0\n",
      "HLSS30.v2.0: HLS Sentinel-2 Multi-spectral Instrument Surface Reflectance Daily Global 30m v2.0\n"
     ]
    }
   ],
   "source": [
    "for col in lp_cat.get_all_collections(): \n",
    "    print(f\"{col.id}: {col.title}\")"
   ]
  },
  {
   "cell_type": "code",
   "execution_count": 9,
   "id": "ae87e911-0d75-4d18-bb22-a5782310050d",
   "metadata": {},
   "outputs": [],
   "source": [
    "lp_collections = ['HLSL30.v2.0', 'HLSS30.v2.0']"
   ]
  },
  {
   "cell_type": "code",
   "execution_count": 10,
   "id": "6d68f803-ccab-48f8-88db-69de538b3190",
   "metadata": {},
   "outputs": [],
   "source": [
    "lp_search = lp_cat.search(\n",
    "    collections=lp_collections,\n",
    "    intersects=roi,\n",
    "    datetime=date_range,\n",
    "    limit=100\n",
    ")"
   ]
  },
  {
   "cell_type": "code",
   "execution_count": 11,
   "id": "3bc08fc3-ad1e-4a8d-875d-c95b9a024be9",
   "metadata": {},
   "outputs": [
    {
     "data": {
      "text/plain": [
       "460"
      ]
     },
     "execution_count": 11,
     "metadata": {},
     "output_type": "execute_result"
    }
   ],
   "source": [
    "lp_search.matched()"
   ]
  },
  {
   "cell_type": "markdown",
   "id": "9ec655c1-602d-4202-beec-71aaaaafd4bb",
   "metadata": {},
   "source": [
    "---"
   ]
  },
  {
   "cell_type": "code",
   "execution_count": 12,
   "id": "9e2f8ff4-97fc-4b6e-bc5c-574c41626505",
   "metadata": {},
   "outputs": [],
   "source": [
    "ornl_cat = Client.open(stac_endpts['ornldaac'])"
   ]
  },
  {
   "cell_type": "code",
   "execution_count": 13,
   "id": "2f96245b-f860-429a-ada8-d0af93695f29",
   "metadata": {},
   "outputs": [
    {
     "data": {
      "text/plain": [
       "['Daymet_Daily_V4_1840.v4.2: Daymet: Daily Surface Weather Data on a 1-km Grid for North America, Version 4']"
      ]
     },
     "execution_count": 13,
     "metadata": {},
     "output_type": "execute_result"
    }
   ],
   "source": [
    "[f'{x.id}: {x.title}' for x in ornl_cat.get_all_collections() if 'Daymet' in x.title and 'Daily' in x.title]"
   ]
  },
  {
   "cell_type": "code",
   "execution_count": 14,
   "id": "a43af7fa-2eca-466b-8ce7-248c45479eb6",
   "metadata": {},
   "outputs": [],
   "source": [
    "ornl_collections = ['Daymet_Daily_V4_1840.v4.2']"
   ]
  },
  {
   "cell_type": "code",
   "execution_count": 15,
   "id": "8d76373b-35d2-4285-b8c4-c72aeedbf190",
   "metadata": {},
   "outputs": [],
   "source": [
    "search = ornl_cat.search(\n",
    "    collections=ornl_collections,\n",
    "    intersects=roi,\n",
    "    datetime=date_range,\n",
    "    limit=100\n",
    ")"
   ]
  },
  {
   "cell_type": "code",
   "execution_count": 16,
   "id": "0cec510e-189b-4952-a326-eea03f6e831c",
   "metadata": {},
   "outputs": [
    {
     "data": {
      "text/plain": [
       "7"
      ]
     },
     "execution_count": 16,
     "metadata": {},
     "output_type": "execute_result"
    }
   ],
   "source": [
    "search.matched()"
   ]
  },
  {
   "cell_type": "code",
   "execution_count": 33,
   "id": "22726a57-caaf-4da7-bef0-5b5bf1dc9127",
   "metadata": {},
   "outputs": [
    {
     "data": {
      "text/plain": [
       "{'type': 'Feature',\n",
       " 'id': 'Daymet_Daily_V4.daymet_v4_daily_na_tmax_2021.nc',\n",
       " 'stac_version': '1.0.0',\n",
       " 'stac_extensions': [],\n",
       " 'collection': 'Daymet_Daily_V4_1840.v4.2',\n",
       " 'geometry': {'type': 'Polygon',\n",
       "  'coordinates': [[[-178.133, 14.0749],\n",
       "    [-53.0567, 14.0749],\n",
       "    [-53.0567, 82.9143],\n",
       "    [-178.133, 82.9143],\n",
       "    [-178.133, 14.0749]]]},\n",
       " 'bbox': [-178.133, 14.0749, -53.0567, 82.9143],\n",
       " 'links': [{'rel': 'self',\n",
       "   'href': 'https://cmr.earthdata.nasa.gov/stac/ORNL_CLOUD/collections/Daymet_Daily_V4_1840.v4.2/items/Daymet_Daily_V4.daymet_v4_daily_na_tmax_2021.nc'},\n",
       "  {'rel': 'parent',\n",
       "   'href': 'https://cmr.earthdata.nasa.gov/stac/ORNL_CLOUD/collections/Daymet_Daily_V4_1840.v4.2'},\n",
       "  {'rel': 'collection',\n",
       "   'href': 'https://cmr.earthdata.nasa.gov/stac/ORNL_CLOUD/collections/Daymet_Daily_V4_1840.v4.2'},\n",
       "  {'rel': 'root', 'href': 'https://cmr.earthdata.nasa.gov/stac/'},\n",
       "  {'rel': 'provider',\n",
       "   'href': 'https://cmr.earthdata.nasa.gov/stac/ORNL_CLOUD'},\n",
       "  {'rel': 'via',\n",
       "   'href': 'https://cmr.earthdata.nasa.gov/search/concepts/G2234869382-ORNL_CLOUD.json'},\n",
       "  {'rel': 'via',\n",
       "   'href': 'https://cmr.earthdata.nasa.gov/search/concepts/G2234869382-ORNL_CLOUD.umm_json'}],\n",
       " 'properties': {'datetime': '2021-01-01T00:00:00.000Z',\n",
       "  'start_datetime': '2021-01-01T00:00:00.000Z',\n",
       "  'end_datetime': '2021-12-31T23:59:59.000Z'},\n",
       " 'assets': {'gov/protected/daymet/Daymet_Daily_V4/data/daymet_v4_daily_na_tmax_2021': {'title': 'Download daymet_v4_daily_na_tmax_2021.nc',\n",
       "   'href': 'https://data.ornldaac.earthdata.nasa.gov/protected/daymet/Daymet_Daily_V4/data/daymet_v4_daily_na_tmax_2021.nc'},\n",
       "  'nc': {'title': 'Download daymet_v4_daily_na_tmax_2021.nc.sha256',\n",
       "   'href': 'https://data.ornldaac.earthdata.nasa.gov/public/daymet/Daymet_Daily_V4/data/daymet_v4_daily_na_tmax_2021.nc.sha256'},\n",
       "  'metadata': {'href': 'https://cmr.earthdata.nasa.gov/search/concepts/G2234869382-ORNL_CLOUD.xml',\n",
       "   'type': 'application/xml'}}}"
      ]
     },
     "execution_count": 33,
     "metadata": {},
     "output_type": "execute_result"
    }
   ],
   "source": [
    "search.get_all_items_as_dict()['features'][0]"
   ]
  },
  {
   "cell_type": "markdown",
   "id": "95553c59-206f-422c-bca6-e62dbf1dc79b",
   "metadata": {},
   "source": [
    "---"
   ]
  },
  {
   "cell_type": "code",
   "execution_count": 27,
   "id": "7ae59ee4-420c-4dc7-932f-419db90a0f78",
   "metadata": {},
   "outputs": [],
   "source": [
    "usgs_cat = Client.open(stac_endpts['usgs_ls'])"
   ]
  },
  {
   "cell_type": "code",
   "execution_count": 28,
   "id": "d10a536f-d1f3-4ab4-b900-7f7a4e4059a2",
   "metadata": {},
   "outputs": [
    {
     "name": "stdout",
     "output_type": "stream",
     "text": [
      "landsat-c1l2alb-st: Landsat Collection 1 Level-2 Albers Surface Temperature (ST) Product\n",
      "landsat-c2l2-sr: Landsat Collection 2 Level-2 UTM Surface Reflectance (SR) Product\n",
      "landsat-c2l2-st: Landsat Collection 2 Level-2 UTM Surface Temperature (ST) Product\n",
      "landsat-c2ard-st: Landsat Collection 2 Analysis Ready Data (ARD) Level-2 UTM Surface Temperature (ST) Product\n",
      "landsat-c2l2alb-bt: Landsat Collection 2 Level-2 Albers Top of Atmosphere Brightness Temperature (BT) Product\n",
      "landsat-c2ard-bt: Landsat Collection 2 Analysis Ready Data (ARD) Level-2 UTM Top of Atmosphere Brightness Temperature (BT) Product\n",
      "landsat-c2l3-fsca: Landsat Collection 2 Level-3 Fractional Snow Covered Area (fSCA) Product\n",
      "landsat-c1l2alb-bt: Landsat Collection 1 Level-2 Albers Top of Atmosphere Brightness Temperature (BT) Product\n",
      "landsat-c2l1: Landsat Collection 2 Level-1 Product\n",
      "landsat-c2l3-ba: Landsat Collection 2 Level-3 Burned Area (BA) Product\n",
      "landsat-c1l2alb-ta: Landsat Collection 1 Level-2 Albers Top of Atmosphere (TA) Reflectance Product\n",
      "landsat-c2l2alb-st: Landsat Collection 2 Level-2 Albers Surface Temperature (ST) Product\n",
      "landsat-c2ard-sr: Landsat Collection 2 Analysis Ready Data (ARD) Level-2 UTM Surface Reflectance (SR) Product\n",
      "landsat-c1l1: Landsat Collection 1 Level-1 Product\n",
      "landsat-c1l2alb-sr: Landsat Collection 1 Level-2 Albers Surface Reflectance (SR) Product\n",
      "landsat-c2l2alb-ta: Landsat Collection 2 Level-2 Albers Top of Atmosphere (TA) Reflectance Product\n",
      "landsat-c2l2alb-sr: Landsat Collection 2 Level-2 Albers Surface Reflectance (SR) Product\n",
      "landsat-c2ard-ta: Landsat Collection 2 Analysis Ready Data (ARD) Level-2 UTM Top of Atmosphere (TA) Reflectance Product\n",
      "landsat-c2l3-dswe: Landsat Collection 2 Level-3 Dynamic Surface Water Extent (DSWE) Product\n"
     ]
    }
   ],
   "source": [
    "for col in usgs_cat.get_all_collections(): \n",
    "    print(f\"{col.id}: {col.title}\")"
   ]
  },
  {
   "cell_type": "code",
   "execution_count": 29,
   "id": "f06cf12d-bbe8-4f56-9540-01e7efa8b24b",
   "metadata": {},
   "outputs": [],
   "source": [
    "usgs_collections = ['landsat-c2l2-sr']"
   ]
  },
  {
   "cell_type": "code",
   "execution_count": 30,
   "id": "bd5b7678-ea66-4e30-9951-b70dae8baba9",
   "metadata": {},
   "outputs": [],
   "source": [
    "usgs_search = usgs_cat.search(\n",
    "    collections=usgs_collections,\n",
    "    intersects=roi,\n",
    "    datetime=date_range,\n",
    "    limit=100\n",
    ")"
   ]
  },
  {
   "cell_type": "code",
   "execution_count": 31,
   "id": "3dc717d9-72c8-427e-b979-6c16b8df4b8a",
   "metadata": {},
   "outputs": [
    {
     "data": {
      "text/plain": [
       "200"
      ]
     },
     "execution_count": 31,
     "metadata": {},
     "output_type": "execute_result"
    }
   ],
   "source": [
    "usgs_search.matched()"
   ]
  },
  {
   "cell_type": "code",
   "execution_count": 34,
   "id": "e38ec31d-6a86-4768-b8f7-8c960db3c229",
   "metadata": {},
   "outputs": [
    {
     "data": {
      "text/plain": [
       "{'type': 'Feature',\n",
       " 'stac_version': '1.0.0',\n",
       " 'stac_extensions': ['https://landsat.usgs.gov/stac/landsat-extension/v1.1.1/schema.json',\n",
       "  'https://stac-extensions.github.io/view/v1.0.0/schema.json',\n",
       "  'https://stac-extensions.github.io/projection/v1.0.0/schema.json',\n",
       "  'https://stac-extensions.github.io/eo/v1.0.0/schema.json',\n",
       "  'https://stac-extensions.github.io/alternate-assets/v1.1.0/schema.json',\n",
       "  'https://stac-extensions.github.io/storage/v1.0.0/schema.json'],\n",
       " 'id': 'LC09_L2SP_031032_20220524_20220526_02_T2_SR',\n",
       " 'description': 'Landsat Collection 2 Level-2 Surface Reflectance Product',\n",
       " 'bbox': [-102.52017264317804,\n",
       "  39.269082961880436,\n",
       "  -99.83776685928268,\n",
       "  41.38035904580066],\n",
       " 'geometry': {'type': 'Polygon',\n",
       "  'coordinates': [[[-102.00324954307321, 41.38035904580066],\n",
       "    [-102.52017264317804, 39.66376682231712],\n",
       "    [-100.4099067889537, 39.269082961880436],\n",
       "    [-99.83776685928268, 40.98387531732431],\n",
       "    [-102.00324954307321, 41.38035904580066]]]},\n",
       " 'properties': {'datetime': '2022-05-24T17:24:26.817858Z',\n",
       "  'eo:cloud_cover': 100,\n",
       "  'view:sun_azimuth': 134.10721221,\n",
       "  'view:sun_elevation': 64.51990883,\n",
       "  'platform': 'LANDSAT_9',\n",
       "  'instruments': ['OLI', 'TIRS'],\n",
       "  'view:off_nadir': 0,\n",
       "  'landsat:cloud_cover_land': 100,\n",
       "  'landsat:wrs_type': '2',\n",
       "  'landsat:wrs_path': '031',\n",
       "  'landsat:wrs_row': '032',\n",
       "  'landsat:scene_id': 'LC90310322022144LGN00',\n",
       "  'landsat:collection_category': 'T2',\n",
       "  'landsat:collection_number': '02',\n",
       "  'landsat:correction': 'L2SP',\n",
       "  'proj:epsg': 32614,\n",
       "  'proj:shape': [7971, 7871],\n",
       "  'proj:transform': [30, 0, 195285, 0, -30, 4586115],\n",
       "  'created': '2022-05-26T05:14:10.519Z',\n",
       "  'updated': '2022-05-26T05:14:10.519Z'},\n",
       " 'assets': {'thumbnail': {'title': 'Thumbnail image',\n",
       "   'type': 'image/jpeg',\n",
       "   'roles': ['thumbnail'],\n",
       "   'href': 'https://landsatlook.usgs.gov/data/collection02/level-2/standard/oli-tirs/2022/031/032/LC09_L2SP_031032_20220524_20220526_02_T2/LC09_L2SP_031032_20220524_20220526_02_T2_thumb_small.jpeg',\n",
       "   'alternate': {'s3': {'storage:platform': 'AWS',\n",
       "     'storage:requester_pays': True,\n",
       "     'href': 's3://usgs-landsat/collection02/level-2/standard/oli-tirs/2022/031/032/LC09_L2SP_031032_20220524_20220526_02_T2/LC09_L2SP_031032_20220524_20220526_02_T2_thumb_small.jpeg'}}},\n",
       "  'reduced_resolution_browse': {'title': 'Reduced resolution browse image',\n",
       "   'type': 'image/jpeg',\n",
       "   'roles': ['overview'],\n",
       "   'href': 'https://landsatlook.usgs.gov/data/collection02/level-2/standard/oli-tirs/2022/031/032/LC09_L2SP_031032_20220524_20220526_02_T2/LC09_L2SP_031032_20220524_20220526_02_T2_thumb_large.jpeg',\n",
       "   'alternate': {'s3': {'storage:platform': 'AWS',\n",
       "     'storage:requester_pays': True,\n",
       "     'href': 's3://usgs-landsat/collection02/level-2/standard/oli-tirs/2022/031/032/LC09_L2SP_031032_20220524_20220526_02_T2/LC09_L2SP_031032_20220524_20220526_02_T2_thumb_large.jpeg'}}},\n",
       "  'index': {'title': 'HTML index page',\n",
       "   'type': 'text/html',\n",
       "   'roles': ['metadata'],\n",
       "   'href': 'https://landsatlook.usgs.gov/stac-browser/collection02/level-2/standard/oli-tirs/2022/031/032/LC09_L2SP_031032_20220524_20220526_02_T2/LC09_L2SP_031032_20220524_20220526_02_T2'},\n",
       "  'coastal': {'title': 'Coastal/Aerosol Band (B1)',\n",
       "   'description': 'Collection 2 Level-2 Coastal/Aerosol Band (B1) Surface Reflectance',\n",
       "   'type': 'image/vnd.stac.geotiff; cloud-optimized=true',\n",
       "   'roles': ['data'],\n",
       "   'eo:bands': [{'name': 'B1',\n",
       "     'common_name': 'coastal',\n",
       "     'gsd': 30,\n",
       "     'center_wavelength': 0.44}],\n",
       "   'href': 'https://landsatlook.usgs.gov/data/collection02/level-2/standard/oli-tirs/2022/031/032/LC09_L2SP_031032_20220524_20220526_02_T2/LC09_L2SP_031032_20220524_20220526_02_T2_SR_B1.TIF',\n",
       "   'alternate': {'s3': {'storage:platform': 'AWS',\n",
       "     'storage:requester_pays': True,\n",
       "     'href': 's3://usgs-landsat/collection02/level-2/standard/oli-tirs/2022/031/032/LC09_L2SP_031032_20220524_20220526_02_T2/LC09_L2SP_031032_20220524_20220526_02_T2_SR_B1.TIF'}}},\n",
       "  'blue': {'title': 'Blue Band (B2)',\n",
       "   'description': 'Collection 2 Level-2 Blue Band (B2) Surface Reflectance',\n",
       "   'type': 'image/vnd.stac.geotiff; cloud-optimized=true',\n",
       "   'roles': ['data'],\n",
       "   'eo:bands': [{'name': 'B2',\n",
       "     'common_name': 'blue',\n",
       "     'gsd': 30,\n",
       "     'center_wavelength': 0.48}],\n",
       "   'href': 'https://landsatlook.usgs.gov/data/collection02/level-2/standard/oli-tirs/2022/031/032/LC09_L2SP_031032_20220524_20220526_02_T2/LC09_L2SP_031032_20220524_20220526_02_T2_SR_B2.TIF',\n",
       "   'alternate': {'s3': {'storage:platform': 'AWS',\n",
       "     'storage:requester_pays': True,\n",
       "     'href': 's3://usgs-landsat/collection02/level-2/standard/oli-tirs/2022/031/032/LC09_L2SP_031032_20220524_20220526_02_T2/LC09_L2SP_031032_20220524_20220526_02_T2_SR_B2.TIF'}}},\n",
       "  'green': {'title': 'Green Band (B3)',\n",
       "   'description': 'Collection 2 Level-2 Green Band (B3) Surface Reflectance',\n",
       "   'type': 'image/vnd.stac.geotiff; cloud-optimized=true',\n",
       "   'roles': ['data'],\n",
       "   'eo:bands': [{'name': 'B3',\n",
       "     'common_name': 'green',\n",
       "     'gsd': 30,\n",
       "     'center_wavelength': 0.56}],\n",
       "   'href': 'https://landsatlook.usgs.gov/data/collection02/level-2/standard/oli-tirs/2022/031/032/LC09_L2SP_031032_20220524_20220526_02_T2/LC09_L2SP_031032_20220524_20220526_02_T2_SR_B3.TIF',\n",
       "   'alternate': {'s3': {'storage:platform': 'AWS',\n",
       "     'storage:requester_pays': True,\n",
       "     'href': 's3://usgs-landsat/collection02/level-2/standard/oli-tirs/2022/031/032/LC09_L2SP_031032_20220524_20220526_02_T2/LC09_L2SP_031032_20220524_20220526_02_T2_SR_B3.TIF'}}},\n",
       "  'red': {'title': 'Red Band (B4)',\n",
       "   'description': 'Collection 2 Level-2 Red Band (B4) Surface Reflectance',\n",
       "   'type': 'image/vnd.stac.geotiff; cloud-optimized=true',\n",
       "   'roles': ['data'],\n",
       "   'eo:bands': [{'name': 'B4',\n",
       "     'common_name': 'red',\n",
       "     'gsd': 30,\n",
       "     'center_wavelength': 0.65}],\n",
       "   'href': 'https://landsatlook.usgs.gov/data/collection02/level-2/standard/oli-tirs/2022/031/032/LC09_L2SP_031032_20220524_20220526_02_T2/LC09_L2SP_031032_20220524_20220526_02_T2_SR_B4.TIF',\n",
       "   'alternate': {'s3': {'storage:platform': 'AWS',\n",
       "     'storage:requester_pays': True,\n",
       "     'href': 's3://usgs-landsat/collection02/level-2/standard/oli-tirs/2022/031/032/LC09_L2SP_031032_20220524_20220526_02_T2/LC09_L2SP_031032_20220524_20220526_02_T2_SR_B4.TIF'}}},\n",
       "  'nir08': {'title': 'Near Infrared Band 0.8 (B5)',\n",
       "   'description': 'Collection 2 Level-2 Near Infrared Band 0.8 (B5) Surface Reflectance',\n",
       "   'type': 'image/vnd.stac.geotiff; cloud-optimized=true',\n",
       "   'roles': ['data', 'reflectance'],\n",
       "   'eo:bands': [{'name': 'B5',\n",
       "     'common_name': 'nir08',\n",
       "     'gsd': 30,\n",
       "     'center_wavelength': 0.86}],\n",
       "   'href': 'https://landsatlook.usgs.gov/data/collection02/level-2/standard/oli-tirs/2022/031/032/LC09_L2SP_031032_20220524_20220526_02_T2/LC09_L2SP_031032_20220524_20220526_02_T2_SR_B5.TIF',\n",
       "   'alternate': {'s3': {'storage:platform': 'AWS',\n",
       "     'storage:requester_pays': True,\n",
       "     'href': 's3://usgs-landsat/collection02/level-2/standard/oli-tirs/2022/031/032/LC09_L2SP_031032_20220524_20220526_02_T2/LC09_L2SP_031032_20220524_20220526_02_T2_SR_B5.TIF'}}},\n",
       "  'swir16': {'title': 'Short-wave Infrared Band 1.6 (B6)',\n",
       "   'description': 'Collection 2 Level-2 Short-wave Infrared Band 1.6 (B6) Surface Reflectance',\n",
       "   'type': 'image/vnd.stac.geotiff; cloud-optimized=true',\n",
       "   'roles': ['data', 'reflectance'],\n",
       "   'eo:bands': [{'name': 'B6',\n",
       "     'common_name': 'swir16',\n",
       "     'gsd': 30,\n",
       "     'center_wavelength': 1.6}],\n",
       "   'href': 'https://landsatlook.usgs.gov/data/collection02/level-2/standard/oli-tirs/2022/031/032/LC09_L2SP_031032_20220524_20220526_02_T2/LC09_L2SP_031032_20220524_20220526_02_T2_SR_B6.TIF',\n",
       "   'alternate': {'s3': {'storage:platform': 'AWS',\n",
       "     'storage:requester_pays': True,\n",
       "     'href': 's3://usgs-landsat/collection02/level-2/standard/oli-tirs/2022/031/032/LC09_L2SP_031032_20220524_20220526_02_T2/LC09_L2SP_031032_20220524_20220526_02_T2_SR_B6.TIF'}}},\n",
       "  'swir22': {'title': 'Short-wave Infrared Band 2.2 (B7)',\n",
       "   'description': 'Collection 2 Level-2 Short-wave Infrared Band 2.2 (B7) Surface Reflectance',\n",
       "   'type': 'image/vnd.stac.geotiff; cloud-optimized=true',\n",
       "   'roles': ['data', 'reflectance'],\n",
       "   'eo:bands': [{'name': 'B7',\n",
       "     'common_name': 'swir22',\n",
       "     'gsd': 30,\n",
       "     'center_wavelength': 2.2}],\n",
       "   'href': 'https://landsatlook.usgs.gov/data/collection02/level-2/standard/oli-tirs/2022/031/032/LC09_L2SP_031032_20220524_20220526_02_T2/LC09_L2SP_031032_20220524_20220526_02_T2_SR_B7.TIF',\n",
       "   'alternate': {'s3': {'storage:platform': 'AWS',\n",
       "     'storage:requester_pays': True,\n",
       "     'href': 's3://usgs-landsat/collection02/level-2/standard/oli-tirs/2022/031/032/LC09_L2SP_031032_20220524_20220526_02_T2/LC09_L2SP_031032_20220524_20220526_02_T2_SR_B7.TIF'}}},\n",
       "  'qa_aerosol': {'title': 'Aerosol Quality Analysis Band',\n",
       "   'description': 'Collection 2 Level-2 Aerosol Quality Analysis Band (ANG) Surface Reflectance',\n",
       "   'type': 'image/vnd.stac.geotiff; cloud-optimized=true',\n",
       "   'roles': ['metadata', 'data-mask', 'water-mask'],\n",
       "   'href': 'https://landsatlook.usgs.gov/data/collection02/level-2/standard/oli-tirs/2022/031/032/LC09_L2SP_031032_20220524_20220526_02_T2/LC09_L2SP_031032_20220524_20220526_02_T2_SR_QA_AEROSOL.TIF',\n",
       "   'alternate': {'s3': {'storage:platform': 'AWS',\n",
       "     'storage:requester_pays': True,\n",
       "     'href': 's3://usgs-landsat/collection02/level-2/standard/oli-tirs/2022/031/032/LC09_L2SP_031032_20220524_20220526_02_T2/LC09_L2SP_031032_20220524_20220526_02_T2_SR_QA_AEROSOL.TIF'}}},\n",
       "  'ANG.txt': {'title': 'Angle Coefficients File',\n",
       "   'description': 'Collection 2 Level-2 Angle Coefficients File (ANG)',\n",
       "   'type': 'text/plain',\n",
       "   'roles': ['metadata'],\n",
       "   'href': 'https://landsatlook.usgs.gov/data/collection02/level-2/standard/oli-tirs/2022/031/032/LC09_L2SP_031032_20220524_20220526_02_T2/LC09_L2SP_031032_20220524_20220526_02_T2_ANG.txt',\n",
       "   'alternate': {'s3': {'storage:platform': 'AWS',\n",
       "     'storage:requester_pays': True,\n",
       "     'href': 's3://usgs-landsat/collection02/level-2/standard/oli-tirs/2022/031/032/LC09_L2SP_031032_20220524_20220526_02_T2/LC09_L2SP_031032_20220524_20220526_02_T2_ANG.txt'}}},\n",
       "  'MTL.txt': {'title': 'Product Metadata File',\n",
       "   'description': 'Collection 2 Level-2 Product Metadata File (MTL)',\n",
       "   'type': 'text/plain',\n",
       "   'roles': ['metadata'],\n",
       "   'href': 'https://landsatlook.usgs.gov/data/collection02/level-2/standard/oli-tirs/2022/031/032/LC09_L2SP_031032_20220524_20220526_02_T2/LC09_L2SP_031032_20220524_20220526_02_T2_MTL.txt',\n",
       "   'alternate': {'s3': {'storage:platform': 'AWS',\n",
       "     'storage:requester_pays': True,\n",
       "     'href': 's3://usgs-landsat/collection02/level-2/standard/oli-tirs/2022/031/032/LC09_L2SP_031032_20220524_20220526_02_T2/LC09_L2SP_031032_20220524_20220526_02_T2_MTL.txt'}}},\n",
       "  'MTL.xml': {'title': 'Product Metadata File (xml)',\n",
       "   'description': 'Collection 2 Level-1 Product Metadata File (xml)',\n",
       "   'type': 'application/xml',\n",
       "   'roles': ['metadata'],\n",
       "   'href': 'https://landsatlook.usgs.gov/data/collection02/level-2/standard/oli-tirs/2022/031/032/LC09_L2SP_031032_20220524_20220526_02_T2/LC09_L2SP_031032_20220524_20220526_02_T2_MTL.xml',\n",
       "   'alternate': {'s3': {'storage:platform': 'AWS',\n",
       "     'storage:requester_pays': True,\n",
       "     'href': 's3://usgs-landsat/collection02/level-2/standard/oli-tirs/2022/031/032/LC09_L2SP_031032_20220524_20220526_02_T2/LC09_L2SP_031032_20220524_20220526_02_T2_MTL.xml'}}},\n",
       "  'MTL.json': {'title': 'Product Metadata File (json)',\n",
       "   'description': 'Collection 2 Level-2 Product Metadata File (json)',\n",
       "   'type': 'application/json',\n",
       "   'roles': ['metadata'],\n",
       "   'href': 'https://landsatlook.usgs.gov/data/collection02/level-2/standard/oli-tirs/2022/031/032/LC09_L2SP_031032_20220524_20220526_02_T2/LC09_L2SP_031032_20220524_20220526_02_T2_MTL.json',\n",
       "   'alternate': {'s3': {'storage:platform': 'AWS',\n",
       "     'storage:requester_pays': True,\n",
       "     'href': 's3://usgs-landsat/collection02/level-2/standard/oli-tirs/2022/031/032/LC09_L2SP_031032_20220524_20220526_02_T2/LC09_L2SP_031032_20220524_20220526_02_T2_MTL.json'}}},\n",
       "  'qa_pixel': {'title': 'Pixel Quality Assessment Band',\n",
       "   'description': 'Collection 2 Level-2 Pixel Quality Assessment Band Surface Reflectance',\n",
       "   'type': 'image/vnd.stac.geotiff; cloud-optimized=true',\n",
       "   'roles': ['cloud', 'cloud-shadow', 'snow-ice', 'water-mask'],\n",
       "   'href': 'https://landsatlook.usgs.gov/data/collection02/level-2/standard/oli-tirs/2022/031/032/LC09_L2SP_031032_20220524_20220526_02_T2/LC09_L2SP_031032_20220524_20220526_02_T2_QA_PIXEL.TIF',\n",
       "   'alternate': {'s3': {'storage:platform': 'AWS',\n",
       "     'storage:requester_pays': True,\n",
       "     'href': 's3://usgs-landsat/collection02/level-2/standard/oli-tirs/2022/031/032/LC09_L2SP_031032_20220524_20220526_02_T2/LC09_L2SP_031032_20220524_20220526_02_T2_QA_PIXEL.TIF'}}},\n",
       "  'qa_radsat': {'title': 'Radiometric Saturation Quality Assessment Band',\n",
       "   'description': 'Collection 2 Level-2 Radiometric Saturation Quality Assessment Band Surface Reflectance',\n",
       "   'type': 'image/vnd.stac.geotiff; cloud-optimized=true',\n",
       "   'roles': ['saturation'],\n",
       "   'href': 'https://landsatlook.usgs.gov/data/collection02/level-2/standard/oli-tirs/2022/031/032/LC09_L2SP_031032_20220524_20220526_02_T2/LC09_L2SP_031032_20220524_20220526_02_T2_QA_RADSAT.TIF',\n",
       "   'alternate': {'s3': {'storage:platform': 'AWS',\n",
       "     'storage:requester_pays': True,\n",
       "     'href': 's3://usgs-landsat/collection02/level-2/standard/oli-tirs/2022/031/032/LC09_L2SP_031032_20220524_20220526_02_T2/LC09_L2SP_031032_20220524_20220526_02_T2_QA_RADSAT.TIF'}}}},\n",
       " 'links': [{'rel': 'self',\n",
       "   'href': 'https://landsatlook.usgs.gov/stac-server/collections/landsat-c2l2-sr/items/LC09_L2SP_031032_20220524_20220526_02_T2_SR'},\n",
       "  {'rel': 'parent',\n",
       "   'href': 'https://landsatlook.usgs.gov/stac-server/collections/landsat-c2l2-sr'},\n",
       "  {'rel': 'collection',\n",
       "   'href': 'https://landsatlook.usgs.gov/stac-server/collections/landsat-c2l2-sr'},\n",
       "  {'rel': 'root', 'href': 'https://landsatlook.usgs.gov/stac-server/'}],\n",
       " 'collection': 'landsat-c2l2-sr'}"
      ]
     },
     "execution_count": 34,
     "metadata": {},
     "output_type": "execute_result"
    }
   ],
   "source": [
    "usgs_search.get_all_items_as_dict()['features'][0]"
   ]
  },
  {
   "cell_type": "code",
   "execution_count": null,
   "id": "94e64a51-63de-4014-8370-3ccec2e29588",
   "metadata": {},
   "outputs": [],
   "source": []
  }
 ],
 "metadata": {
  "kernelspec": {
   "display_name": "Python 3 (ipykernel)",
   "language": "python",
   "name": "python3"
  },
  "language_info": {
   "codemirror_mode": {
    "name": "ipython",
    "version": 3
   },
   "file_extension": ".py",
   "mimetype": "text/x-python",
   "name": "python",
   "nbconvert_exporter": "python",
   "pygments_lexer": "ipython3",
   "version": "3.9.12"
  }
 },
 "nbformat": 4,
 "nbformat_minor": 5
}
